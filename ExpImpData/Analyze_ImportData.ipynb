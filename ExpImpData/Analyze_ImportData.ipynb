{
 "cells": [
  {
   "cell_type": "code",
   "execution_count": 1,
   "metadata": {
    "scrolled": true
   },
   "outputs": [],
   "source": [
    "import pandas as pd\n",
    "import datetime"
   ]
  },
  {
   "cell_type": "markdown",
   "metadata": {},
   "source": [
    "## References\n",
    "\n",
    "https://www.dataquest.io/blog/sql-insert-tutorial/\n",
    "\n"
   ]
  },
  {
   "cell_type": "markdown",
   "metadata": {},
   "source": [
    "#### To install pymysql from jupyter notebook\n",
    "!pip install pymysql"
   ]
  },
  {
   "cell_type": "code",
   "execution_count": 37,
   "metadata": {},
   "outputs": [],
   "source": [
    "import pymysql"
   ]
  },
  {
   "cell_type": "code",
   "execution_count": 39,
   "metadata": {
    "scrolled": true
   },
   "outputs": [],
   "source": [
    "#test = pd.read_excel(\"ALL_PORT_ALL_032021/ALL_PORT_ALL_I_85_Mar21_Mar21_1.xlsx\")\n",
    "test = pd.read_excel(\"ALL_PORT_ALL_032021/ALL_PORT_ALL_I_85_Mar21_Mar21_2.xlsx\")"
   ]
  },
  {
   "cell_type": "code",
   "execution_count": 40,
   "metadata": {},
   "outputs": [
    {
     "data": {
      "text/html": [
       "<div>\n",
       "<style scoped>\n",
       "    .dataframe tbody tr th:only-of-type {\n",
       "        vertical-align: middle;\n",
       "    }\n",
       "\n",
       "    .dataframe tbody tr th {\n",
       "        vertical-align: top;\n",
       "    }\n",
       "\n",
       "    .dataframe thead th {\n",
       "        text-align: right;\n",
       "    }\n",
       "</style>\n",
       "<table border=\"1\" class=\"dataframe\">\n",
       "  <thead>\n",
       "    <tr style=\"text-align: right;\">\n",
       "      <th></th>\n",
       "      <th>BE NO</th>\n",
       "      <th>BEDATE</th>\n",
       "      <th>HS CODE</th>\n",
       "      <th>PRODUCT DESCRIPTION</th>\n",
       "      <th>QUANTITY</th>\n",
       "      <th>UNIT</th>\n",
       "      <th>ASSESS VALUE(INR)</th>\n",
       "      <th>UNIT PRICE (INR)</th>\n",
       "      <th>ASSESS VALUE (USD)</th>\n",
       "      <th>UNIT PRICE (USD)</th>\n",
       "      <th>...</th>\n",
       "      <th>TOTAL INSU VALUE_ FORGN CUR</th>\n",
       "      <th>INSURANCE_CURRENCY</th>\n",
       "      <th>TOTAL INVOICE VALUE_INR</th>\n",
       "      <th>INSURANCE VALUE_INR</th>\n",
       "      <th>TOTAL GROSS WEIGHT</th>\n",
       "      <th>TOTAL FREIGHT VALUE_INR</th>\n",
       "      <th>GROSS WEIGHT UNIT</th>\n",
       "      <th>CUSTOM_NOTIFICATION</th>\n",
       "      <th>STANDARD QUANTITY</th>\n",
       "      <th>STANDARD QUANTITY UNIT</th>\n",
       "    </tr>\n",
       "  </thead>\n",
       "  <tbody>\n",
       "    <tr>\n",
       "      <th>0</th>\n",
       "      <td>3217867</td>\n",
       "      <td>2021-03-19</td>\n",
       "      <td>85365090</td>\n",
       "      <td>47556591 STEERING COLUMN SWITCH SWITCHGEAR ASS...</td>\n",
       "      <td>75.0</td>\n",
       "      <td>PCS</td>\n",
       "      <td>198525.96</td>\n",
       "      <td>2647.012800</td>\n",
       "      <td>2706.557055</td>\n",
       "      <td>36.087427</td>\n",
       "      <td>...</td>\n",
       "      <td>0.0</td>\n",
       "      <td>NaN</td>\n",
       "      <td>301881.0</td>\n",
       "      <td>66.0</td>\n",
       "      <td>140.0</td>\n",
       "      <td>21498.0</td>\n",
       "      <td>KGS</td>\n",
       "      <td>NaN</td>\n",
       "      <td>75.0</td>\n",
       "      <td>NOS</td>\n",
       "    </tr>\n",
       "    <tr>\n",
       "      <th>1</th>\n",
       "      <td>3214257</td>\n",
       "      <td>2021-03-19</td>\n",
       "      <td>85411000</td>\n",
       "      <td>DIODE BAV99 215</td>\n",
       "      <td>30000.0</td>\n",
       "      <td>PCS</td>\n",
       "      <td>13896.68</td>\n",
       "      <td>0.463223</td>\n",
       "      <td>189.457123</td>\n",
       "      <td>0.006315</td>\n",
       "      <td>...</td>\n",
       "      <td>0.0</td>\n",
       "      <td>NaN</td>\n",
       "      <td>1058041.0</td>\n",
       "      <td>296.0</td>\n",
       "      <td>88.0</td>\n",
       "      <td>37036.0</td>\n",
       "      <td>KGS</td>\n",
       "      <td>NaN</td>\n",
       "      <td>30000.0</td>\n",
       "      <td>NOS</td>\n",
       "    </tr>\n",
       "    <tr>\n",
       "      <th>2</th>\n",
       "      <td>3214257</td>\n",
       "      <td>2021-03-19</td>\n",
       "      <td>85423100</td>\n",
       "      <td>IC M24C02-WMN6TP</td>\n",
       "      <td>2500.0</td>\n",
       "      <td>PCS</td>\n",
       "      <td>6834.43</td>\n",
       "      <td>2.733772</td>\n",
       "      <td>93.175596</td>\n",
       "      <td>0.037270</td>\n",
       "      <td>...</td>\n",
       "      <td>0.0</td>\n",
       "      <td>NaN</td>\n",
       "      <td>1058041.0</td>\n",
       "      <td>296.0</td>\n",
       "      <td>88.0</td>\n",
       "      <td>37036.0</td>\n",
       "      <td>KGS</td>\n",
       "      <td>NaN</td>\n",
       "      <td>2500.0</td>\n",
       "      <td>NOS</td>\n",
       "    </tr>\n",
       "    <tr>\n",
       "      <th>3</th>\n",
       "      <td>3214257</td>\n",
       "      <td>2021-03-19</td>\n",
       "      <td>85423100</td>\n",
       "      <td>IC ULN2003AS16-13</td>\n",
       "      <td>25000.0</td>\n",
       "      <td>PCS</td>\n",
       "      <td>151876.25</td>\n",
       "      <td>6.075050</td>\n",
       "      <td>2070.569189</td>\n",
       "      <td>0.082823</td>\n",
       "      <td>...</td>\n",
       "      <td>0.0</td>\n",
       "      <td>NaN</td>\n",
       "      <td>1058041.0</td>\n",
       "      <td>296.0</td>\n",
       "      <td>88.0</td>\n",
       "      <td>37036.0</td>\n",
       "      <td>KGS</td>\n",
       "      <td>NaN</td>\n",
       "      <td>25000.0</td>\n",
       "      <td>NOS</td>\n",
       "    </tr>\n",
       "    <tr>\n",
       "      <th>4</th>\n",
       "      <td>3214257</td>\n",
       "      <td>2021-03-19</td>\n",
       "      <td>85423100</td>\n",
       "      <td>IC LM324DT</td>\n",
       "      <td>17500.0</td>\n",
       "      <td>PCS</td>\n",
       "      <td>59136.82</td>\n",
       "      <td>3.379247</td>\n",
       "      <td>806.227948</td>\n",
       "      <td>0.046070</td>\n",
       "      <td>...</td>\n",
       "      <td>0.0</td>\n",
       "      <td>NaN</td>\n",
       "      <td>1058041.0</td>\n",
       "      <td>296.0</td>\n",
       "      <td>88.0</td>\n",
       "      <td>37036.0</td>\n",
       "      <td>KGS</td>\n",
       "      <td>NaN</td>\n",
       "      <td>17500.0</td>\n",
       "      <td>NOS</td>\n",
       "    </tr>\n",
       "  </tbody>\n",
       "</table>\n",
       "<p>5 rows × 68 columns</p>\n",
       "</div>"
      ],
      "text/plain": [
       "     BE NO     BEDATE   HS CODE  \\\n",
       "0  3217867 2021-03-19  85365090   \n",
       "1  3214257 2021-03-19  85411000   \n",
       "2  3214257 2021-03-19  85423100   \n",
       "3  3214257 2021-03-19  85423100   \n",
       "4  3214257 2021-03-19  85423100   \n",
       "\n",
       "                                 PRODUCT DESCRIPTION  QUANTITY UNIT  \\\n",
       "0  47556591 STEERING COLUMN SWITCH SWITCHGEAR ASS...      75.0  PCS   \n",
       "1                                    DIODE BAV99 215   30000.0  PCS   \n",
       "2                                   IC M24C02-WMN6TP    2500.0  PCS   \n",
       "3                                  IC ULN2003AS16-13   25000.0  PCS   \n",
       "4                                         IC LM324DT   17500.0  PCS   \n",
       "\n",
       "   ASSESS VALUE(INR)  UNIT PRICE (INR)  ASSESS VALUE (USD)  UNIT PRICE (USD)  \\\n",
       "0          198525.96       2647.012800         2706.557055         36.087427   \n",
       "1           13896.68          0.463223          189.457123          0.006315   \n",
       "2            6834.43          2.733772           93.175596          0.037270   \n",
       "3          151876.25          6.075050         2070.569189          0.082823   \n",
       "4           59136.82          3.379247          806.227948          0.046070   \n",
       "\n",
       "   ...  TOTAL INSU VALUE_ FORGN CUR  INSURANCE_CURRENCY  \\\n",
       "0  ...                          0.0                 NaN   \n",
       "1  ...                          0.0                 NaN   \n",
       "2  ...                          0.0                 NaN   \n",
       "3  ...                          0.0                 NaN   \n",
       "4  ...                          0.0                 NaN   \n",
       "\n",
       "   TOTAL INVOICE VALUE_INR  INSURANCE VALUE_INR  TOTAL GROSS WEIGHT  \\\n",
       "0                 301881.0                 66.0               140.0   \n",
       "1                1058041.0                296.0                88.0   \n",
       "2                1058041.0                296.0                88.0   \n",
       "3                1058041.0                296.0                88.0   \n",
       "4                1058041.0                296.0                88.0   \n",
       "\n",
       "   TOTAL FREIGHT VALUE_INR GROSS WEIGHT UNIT  CUSTOM_NOTIFICATION  \\\n",
       "0                  21498.0               KGS                  NaN   \n",
       "1                  37036.0               KGS                  NaN   \n",
       "2                  37036.0               KGS                  NaN   \n",
       "3                  37036.0               KGS                  NaN   \n",
       "4                  37036.0               KGS                  NaN   \n",
       "\n",
       "  STANDARD QUANTITY STANDARD QUANTITY UNIT  \n",
       "0              75.0                    NOS  \n",
       "1           30000.0                    NOS  \n",
       "2            2500.0                    NOS  \n",
       "3           25000.0                    NOS  \n",
       "4           17500.0                    NOS  \n",
       "\n",
       "[5 rows x 68 columns]"
      ]
     },
     "execution_count": 40,
     "metadata": {},
     "output_type": "execute_result"
    }
   ],
   "source": [
    "test.head()"
   ]
  },
  {
   "cell_type": "code",
   "execution_count": 41,
   "metadata": {},
   "outputs": [
    {
     "data": {
      "text/plain": [
       "BE NO                      327175\n",
       "BEDATE                     327175\n",
       "HS CODE                    327175\n",
       "PRODUCT DESCRIPTION        327175\n",
       "QUANTITY                   327175\n",
       "                            ...  \n",
       "TOTAL FREIGHT VALUE_INR    278816\n",
       "GROSS WEIGHT UNIT          278816\n",
       "CUSTOM_NOTIFICATION         50947\n",
       "STANDARD QUANTITY          327175\n",
       "STANDARD QUANTITY UNIT     327175\n",
       "Length: 68, dtype: int64"
      ]
     },
     "execution_count": 41,
     "metadata": {},
     "output_type": "execute_result"
    }
   ],
   "source": [
    "test.count()"
   ]
  },
  {
   "cell_type": "code",
   "execution_count": 42,
   "metadata": {},
   "outputs": [],
   "source": [
    "#test_sample = test.sample(50000)\n",
    "test_sample = test"
   ]
  },
  {
   "cell_type": "code",
   "execution_count": 43,
   "metadata": {},
   "outputs": [
    {
     "data": {
      "text/plain": [
       "Index(['BE NO', 'BEDATE', 'HS CODE', 'PRODUCT DESCRIPTION', 'QUANTITY', 'UNIT',\n",
       "       'ASSESS VALUE(INR)', 'UNIT PRICE (INR)', 'ASSESS VALUE (USD)',\n",
       "       'UNIT PRICE (USD)', 'TOTAL_DUTY', 'TOTAL DUTY (BE WISE)',\n",
       "       'APPLICABLE DUTY (INR)', 'EXCHANGE RATE(USD)', 'ITEM RATE_INV_CURR',\n",
       "       'VALUE_INV_CURR', 'INVOICE CURRENCY', 'ASSESS GROUP', 'IMPORTER CODE',\n",
       "       'IMPORTER NAME', 'IMPORTER ADDRESS', 'IMPORTER CITY', 'IMPORTER PIN',\n",
       "       'IMPORTER STATE', 'SUPPLIER CODE', 'SUPPLIER NAME', 'SUPPLIER ADDRESS',\n",
       "       'SUPPLIER COUNTRY', 'FOREIGN PORT', 'FOREIGN COUNTRY',\n",
       "       'FOREIGN REGIONS', 'CHA NAME', 'CHA PAN', 'IEC', 'IEC CODE',\n",
       "       'INVOICE NUMBER', 'INVOICE_SR_NO', 'ITEM NUMBER', 'HSCODE(2 DIGIT)',\n",
       "       'HSCODE(4 DIGIT)', 'TYPE', 'INDIAN PORT', 'SHIPMENT MODE',\n",
       "       'INDIAN REGIONS', 'SHIPMENT PORT', 'HSCODE(6 DIGIT)', 'BCD NOTN',\n",
       "       'BCD RATE', 'BCD AMOUNT(INR)', 'CVD NOTN', 'CVD RATE',\n",
       "       'CVD AMOUNT(INR)', 'IGST AMOUNT(INR)', 'GST CESS AMOUNT(INR)', 'REMARK',\n",
       "       'INCOTERMS', 'TOTAL FREIGHT VALUE_FORGN CUR', 'FREIGHT_CURRENCY',\n",
       "       'TOTAL INSU VALUE_ FORGN CUR', 'INSURANCE_CURRENCY',\n",
       "       'TOTAL INVOICE VALUE_INR', 'INSURANCE VALUE_INR', 'TOTAL GROSS WEIGHT',\n",
       "       'TOTAL FREIGHT VALUE_INR', 'GROSS WEIGHT UNIT', 'CUSTOM_NOTIFICATION',\n",
       "       'STANDARD QUANTITY', 'STANDARD QUANTITY UNIT'],\n",
       "      dtype='object')"
      ]
     },
     "execution_count": 43,
     "metadata": {},
     "output_type": "execute_result"
    }
   ],
   "source": [
    "test_sample.columns"
   ]
  },
  {
   "cell_type": "markdown",
   "metadata": {},
   "source": [
    "### Data Transformation"
   ]
  },
  {
   "cell_type": "code",
   "execution_count": 44,
   "metadata": {},
   "outputs": [],
   "source": [
    "test_sample['BEDATE'] = test_sample['BEDATE'].apply(lambda x: x.strftime('%Y-%m-%d'))"
   ]
  },
  {
   "cell_type": "code",
   "execution_count": 45,
   "metadata": {},
   "outputs": [],
   "source": [
    "test_sample['ASSESS VALUE(INR)'] = test_sample['ASSESS VALUE(INR)'].fillna(0)\n",
    "test_sample['UNIT PRICE (INR)'] = test_sample['UNIT PRICE (INR)'].fillna(0)\n",
    "test_sample['ASSESS VALUE (USD)'] = test_sample['ASSESS VALUE (USD)'].fillna(0)\n",
    "test_sample['UNIT PRICE (USD)'] = test_sample['UNIT PRICE (USD)'].fillna(0)\n",
    "\n",
    "test_sample['TOTAL_DUTY'] = test_sample['TOTAL_DUTY'].fillna(0)\n",
    "test_sample['TOTAL DUTY (BE WISE)'] = test_sample['TOTAL DUTY (BE WISE)'].fillna(0)\n",
    "test_sample['APPLICABLE DUTY (INR)'] = test_sample['APPLICABLE DUTY (INR)'].fillna(0)\n",
    "\n",
    "test_sample['EXCHANGE RATE(USD)'] = test_sample['EXCHANGE RATE(USD)'].fillna(0)\n",
    "test_sample['ITEM RATE_INV_CURR'] = test_sample['ITEM RATE_INV_CURR'].fillna(0)\n",
    "test_sample['VALUE_INV_CURR'] = test_sample['VALUE_INV_CURR'].fillna(0)\n",
    "\n",
    "test_sample['ASSESS GROUP'] = test_sample['VALUE_INV_CURR'].fillna(0)"
   ]
  },
  {
   "cell_type": "code",
   "execution_count": 46,
   "metadata": {},
   "outputs": [],
   "source": [
    "test_sample['IMPORTER CODE'] = test_sample['IMPORTER CODE'].fillna(' ')\n",
    "test_sample['IMPORTER NAME'] = test_sample['IMPORTER NAME'].fillna(' ')\n",
    "test_sample['IMPORTER ADDRESS'] = test_sample['IMPORTER ADDRESS'].fillna(' ')\n",
    "test_sample['IMPORTER CITY'] = test_sample['IMPORTER CITY'].fillna(' ')\n",
    "test_sample['IMPORTER PIN'] = test_sample['IMPORTER PIN'].fillna(' ')\n",
    "test_sample['IMPORTER STATE'] = test_sample['IMPORTER STATE'].fillna(' ')\n",
    "\n",
    "test_sample['SUPPLIER CODE'] = test_sample['SUPPLIER CODE'].fillna(' ')\n",
    "test_sample['SUPPLIER NAME'] = test_sample['SUPPLIER NAME'].fillna(' ')\n",
    "test_sample['SUPPLIER ADDRESS'] = test_sample['SUPPLIER ADDRESS'].fillna(' ')\n",
    "test_sample['SUPPLIER COUNTRY'] = test_sample['SUPPLIER COUNTRY'].fillna(' ')\n",
    "\n",
    "test_sample['FOREIGN PORT'] = test_sample['FOREIGN PORT'].fillna(' ')\n",
    "test_sample['FOREIGN COUNTRY'] = test_sample['FOREIGN COUNTRY'].fillna(' ')\n",
    "test_sample['FOREIGN REGIONS'] = test_sample['FOREIGN REGIONS'].fillna(' ')\n",
    "\n",
    "test_sample['CHA NAME'] = test_sample['CHA NAME'].fillna(' ')\n",
    "test_sample['CHA PAN'] = test_sample['CHA PAN'].fillna(' ')\n",
    "test_sample['IEC'] = test_sample['IEC'].fillna(' ')\n",
    "test_sample['IEC CODE'] = test_sample['IEC CODE'].fillna(' ')\n",
    "\n",
    "test_sample['INVOICE NUMBER'] = test_sample['INVOICE NUMBER'].fillna(' ')\n",
    "test_sample['INVOICE_SR_NO'] = test_sample['INVOICE_SR_NO'].fillna(0)\n",
    "test_sample['ITEM NUMBER'] = test_sample['ITEM NUMBER'].fillna(0)\n",
    "test_sample['HSCODE(2 DIGIT)'] = test_sample['HSCODE(2 DIGIT)'].fillna(0)\n",
    "test_sample['HSCODE(4 DIGIT)'] = test_sample['HSCODE(4 DIGIT)'].fillna(0)\n",
    "test_sample['TYPE'] = test_sample['TYPE'].fillna(' ')\n",
    "\n",
    "test_sample['INDIAN PORT'] = test_sample['INDIAN PORT'].fillna(' ')\n",
    "test_sample['SHIPMENT MODE'] = test_sample['SHIPMENT MODE'].fillna(' ')\n",
    "test_sample['INDIAN REGIONS'] = test_sample['INDIAN REGIONS'].fillna(' ')\n",
    "test_sample['SHIPMENT PORT'] = test_sample['SHIPMENT PORT'].fillna(' ')\n",
    "\n",
    "test_sample['HSCODE(6 DIGIT)'] = test_sample['HSCODE(6 DIGIT)'].fillna(0)\n",
    "test_sample['BCD NOTN'] = test_sample['BCD NOTN'].fillna(' ')\n",
    "test_sample['BCD RATE'] = test_sample['BCD RATE'].fillna(0)\n",
    "test_sample['BCD AMOUNT(INR)'] = test_sample['BCD AMOUNT(INR)'].fillna(0)\n",
    "\n",
    "test_sample['CVD NOTN'] = test_sample['CVD NOTN'].fillna(0)\n",
    "test_sample['CVD RATE'] = test_sample['CVD RATE'].fillna(0)\n",
    "test_sample['CVD AMOUNT(INR)'] = test_sample['CVD AMOUNT(INR)'].fillna(0)\n",
    "\n",
    "test_sample['IGST AMOUNT(INR)'] = test_sample['IGST AMOUNT(INR)'].fillna(0)\n",
    "test_sample['GST CESS AMOUNT(INR)'] = test_sample['GST CESS AMOUNT(INR)'].fillna(0)\n",
    "test_sample['REMARK'] = test_sample['REMARK'].fillna(' ')\n",
    "test_sample['INCOTERMS'] = test_sample['INCOTERMS'].fillna(' ')\n",
    "test_sample['TOTAL FREIGHT VALUE_FORGN CUR'] = test_sample['TOTAL FREIGHT VALUE_FORGN CUR'].fillna(0)\n",
    "test_sample['FREIGHT_CURRENCY'] = test_sample['FREIGHT_CURRENCY'].fillna(' ')\n",
    "test_sample['TOTAL INSU VALUE_ FORGN CUR'] = test_sample['TOTAL INSU VALUE_ FORGN CUR'].fillna(0)\n",
    "test_sample['INSURANCE_CURRENCY'] = test_sample['INSURANCE_CURRENCY'].fillna(' ')\n",
    "\n",
    "test_sample['TOTAL INVOICE VALUE_INR'] = test_sample['TOTAL INVOICE VALUE_INR'].fillna(0)\n",
    "test_sample['INSURANCE VALUE_INR'] = test_sample['INSURANCE VALUE_INR'].fillna(0)\n",
    "test_sample['TOTAL GROSS WEIGHT'] = test_sample['TOTAL GROSS WEIGHT'].fillna(0)\n",
    "test_sample['TOTAL FREIGHT VALUE_INR'] = test_sample['TOTAL FREIGHT VALUE_INR'].fillna(0)\n",
    "\n",
    "test_sample['GROSS WEIGHT UNIT'] = test_sample['GROSS WEIGHT UNIT'].fillna(' ')\n",
    "test_sample['CUSTOM_NOTIFICATION'] = test_sample['CUSTOM_NOTIFICATION'].fillna(' ')\n",
    "test_sample['STANDARD QUANTITY'] = test_sample['STANDARD QUANTITY'].fillna(0)\n",
    "test_sample['STANDARD QUANTITY UNIT'] = test_sample['STANDARD QUANTITY UNIT'].fillna(' ')\n"
   ]
  },
  {
   "cell_type": "markdown",
   "metadata": {},
   "source": [
    "### Data Transformation Ends"
   ]
  },
  {
   "cell_type": "code",
   "execution_count": 47,
   "metadata": {
    "scrolled": true
   },
   "outputs": [
    {
     "name": "stdout",
     "output_type": "stream",
     "text": [
      "BE NO -- int64\n",
      "BEDATE -- object\n",
      "HS CODE -- int64\n",
      "PRODUCT DESCRIPTION -- object\n",
      "QUANTITY -- float64\n",
      "UNIT -- object\n",
      "ASSESS VALUE(INR) -- float64\n",
      "UNIT PRICE (INR) -- float64\n",
      "ASSESS VALUE (USD) -- float64\n",
      "UNIT PRICE (USD) -- float64\n",
      "TOTAL_DUTY -- float64\n",
      "TOTAL DUTY (BE WISE) -- float64\n",
      "APPLICABLE DUTY (INR) -- float64\n",
      "EXCHANGE RATE(USD) -- float64\n",
      "ITEM RATE_INV_CURR -- float64\n",
      "VALUE_INV_CURR -- float64\n",
      "INVOICE CURRENCY -- object\n",
      "ASSESS GROUP -- float64\n",
      "IMPORTER CODE -- object\n",
      "IMPORTER NAME -- object\n",
      "IMPORTER ADDRESS -- object\n",
      "IMPORTER CITY -- object\n",
      "IMPORTER PIN -- object\n",
      "IMPORTER STATE -- object\n",
      "SUPPLIER CODE -- int64\n",
      "SUPPLIER NAME -- object\n",
      "SUPPLIER ADDRESS -- object\n",
      "SUPPLIER COUNTRY -- object\n",
      "FOREIGN PORT -- object\n",
      "FOREIGN COUNTRY -- object\n",
      "FOREIGN REGIONS -- object\n",
      "CHA NAME -- object\n",
      "CHA PAN -- object\n",
      "IEC -- object\n",
      "IEC CODE -- object\n",
      "INVOICE NUMBER -- object\n",
      "INVOICE_SR_NO -- float64\n",
      "ITEM NUMBER -- float64\n",
      "HSCODE(2 DIGIT) -- int64\n",
      "HSCODE(4 DIGIT) -- int64\n",
      "TYPE -- object\n",
      "INDIAN PORT -- object\n",
      "SHIPMENT MODE -- object\n",
      "INDIAN REGIONS -- object\n",
      "SHIPMENT PORT -- object\n",
      "HSCODE(6 DIGIT) -- int64\n",
      "BCD NOTN -- object\n",
      "BCD RATE -- float64\n",
      "BCD AMOUNT(INR) -- float64\n",
      "CVD NOTN -- float64\n",
      "CVD RATE -- float64\n",
      "CVD AMOUNT(INR) -- float64\n",
      "IGST AMOUNT(INR) -- float64\n",
      "GST CESS AMOUNT(INR) -- float64\n",
      "REMARK -- object\n",
      "INCOTERMS -- object\n",
      "TOTAL FREIGHT VALUE_FORGN CUR -- float64\n",
      "FREIGHT_CURRENCY -- object\n",
      "TOTAL INSU VALUE_ FORGN CUR -- float64\n",
      "INSURANCE_CURRENCY -- object\n",
      "TOTAL INVOICE VALUE_INR -- float64\n",
      "INSURANCE VALUE_INR -- float64\n",
      "TOTAL GROSS WEIGHT -- float64\n",
      "TOTAL FREIGHT VALUE_INR -- float64\n",
      "GROSS WEIGHT UNIT -- object\n",
      "CUSTOM_NOTIFICATION -- object\n",
      "STANDARD QUANTITY -- float64\n",
      "STANDARD QUANTITY UNIT -- object\n"
     ]
    }
   ],
   "source": [
    "for i in test_sample.columns.tolist():\n",
    "    print(i,'--', test_sample[i].dtype)"
   ]
  },
  {
   "cell_type": "code",
   "execution_count": 48,
   "metadata": {
    "scrolled": true
   },
   "outputs": [],
   "source": [
    "part_import_subset = pd.DataFrame(test_sample,columns=['BE NO','BEDATE','HS CODE'\n",
    "                                                       ,'PRODUCT DESCRIPTION'                                                \n",
    "                                                       ,'QUANTITY','UNIT'\n",
    "                                                       ,'ASSESS VALUE(INR)', 'UNIT PRICE (INR)'\n",
    "                                                       , 'ASSESS VALUE (USD)'\n",
    "                                                       ,'UNIT PRICE (USD)', 'TOTAL_DUTY', 'TOTAL DUTY (BE WISE)'\n",
    "                                                       ,'APPLICABLE DUTY (INR)', 'EXCHANGE RATE(USD)'\n",
    "                                                       ,'ITEM RATE_INV_CURR','VALUE_INV_CURR'   \n",
    "                                                       , 'INVOICE CURRENCY', 'ASSESS GROUP'\n",
    "                                                       , 'IMPORTER CODE', 'IMPORTER NAME', 'IMPORTER ADDRESS'\n",
    "                                                       , 'IMPORTER CITY', 'IMPORTER PIN', 'IMPORTER STATE'\n",
    "                                                       , 'SUPPLIER CODE', 'SUPPLIER NAME', 'SUPPLIER ADDRESS'\n",
    "                                                       , 'SUPPLIER COUNTRY', 'FOREIGN PORT', 'FOREIGN COUNTRY'\n",
    "                                                       , 'FOREIGN REGIONS', 'CHA NAME', 'CHA PAN', 'IEC'\n",
    "                                                       , 'IEC CODE', 'INVOICE NUMBER'\n",
    "                                                       , 'INVOICE_SR_NO', 'ITEM NUMBER', 'HSCODE(2 DIGIT)'\n",
    "                                                       , 'HSCODE(4 DIGIT)', 'TYPE', 'INDIAN PORT'\n",
    "                                                       , 'SHIPMENT MODE', 'INDIAN REGIONS', 'SHIPMENT PORT'\n",
    "                                                       , 'HSCODE(6 DIGIT)', 'BCD NOTN', 'BCD RATE'\n",
    "                                                       , 'BCD AMOUNT(INR)', 'CVD NOTN', 'CVD RATE', 'CVD AMOUNT(INR)'\n",
    "                                                       , 'IGST AMOUNT(INR)', 'GST CESS AMOUNT(INR)', 'REMARK'\n",
    "                                                       , 'INCOTERMS', 'TOTAL FREIGHT VALUE_FORGN CUR'\n",
    "                                                       , 'FREIGHT_CURRENCY', 'TOTAL INSU VALUE_ FORGN CUR'\n",
    "                                                       , 'INSURANCE_CURRENCY', 'TOTAL INVOICE VALUE_INR'\n",
    "                                                       , 'INSURANCE VALUE_INR', 'TOTAL GROSS WEIGHT'\n",
    "                                                       , 'TOTAL FREIGHT VALUE_INR', 'GROSS WEIGHT UNIT'\n",
    "                                                       , 'CUSTOM_NOTIFICATION', 'STANDARD QUANTITY'\n",
    "                                                       , 'STANDARD QUANTITY UNIT'\n",
    "                                                      ])\n",
    "#test[{'HS CODE', 'UNIT', 'PRODUCT DESCRIPTION'},cols=['HS CODE', 'UNIT', 'PRODUCT DESCRIPTION']].sample(100)"
   ]
  },
  {
   "cell_type": "code",
   "execution_count": 49,
   "metadata": {
    "scrolled": true
   },
   "outputs": [
    {
     "data": {
      "text/html": [
       "<div>\n",
       "<style scoped>\n",
       "    .dataframe tbody tr th:only-of-type {\n",
       "        vertical-align: middle;\n",
       "    }\n",
       "\n",
       "    .dataframe tbody tr th {\n",
       "        vertical-align: top;\n",
       "    }\n",
       "\n",
       "    .dataframe thead th {\n",
       "        text-align: right;\n",
       "    }\n",
       "</style>\n",
       "<table border=\"1\" class=\"dataframe\">\n",
       "  <thead>\n",
       "    <tr style=\"text-align: right;\">\n",
       "      <th></th>\n",
       "      <th>BE NO</th>\n",
       "      <th>BEDATE</th>\n",
       "      <th>HS CODE</th>\n",
       "      <th>PRODUCT DESCRIPTION</th>\n",
       "      <th>QUANTITY</th>\n",
       "      <th>UNIT</th>\n",
       "      <th>ASSESS VALUE(INR)</th>\n",
       "      <th>UNIT PRICE (INR)</th>\n",
       "      <th>ASSESS VALUE (USD)</th>\n",
       "      <th>UNIT PRICE (USD)</th>\n",
       "      <th>...</th>\n",
       "      <th>TOTAL INSU VALUE_ FORGN CUR</th>\n",
       "      <th>INSURANCE_CURRENCY</th>\n",
       "      <th>TOTAL INVOICE VALUE_INR</th>\n",
       "      <th>INSURANCE VALUE_INR</th>\n",
       "      <th>TOTAL GROSS WEIGHT</th>\n",
       "      <th>TOTAL FREIGHT VALUE_INR</th>\n",
       "      <th>GROSS WEIGHT UNIT</th>\n",
       "      <th>CUSTOM_NOTIFICATION</th>\n",
       "      <th>STANDARD QUANTITY</th>\n",
       "      <th>STANDARD QUANTITY UNIT</th>\n",
       "    </tr>\n",
       "  </thead>\n",
       "  <tbody>\n",
       "    <tr>\n",
       "      <th>0</th>\n",
       "      <td>3217867</td>\n",
       "      <td>2021-03-19</td>\n",
       "      <td>85365090</td>\n",
       "      <td>47556591 STEERING COLUMN SWITCH SWITCHGEAR ASS...</td>\n",
       "      <td>75.0</td>\n",
       "      <td>PCS</td>\n",
       "      <td>198525.96</td>\n",
       "      <td>2647.012800</td>\n",
       "      <td>2706.557055</td>\n",
       "      <td>36.087427</td>\n",
       "      <td>...</td>\n",
       "      <td>0.0</td>\n",
       "      <td></td>\n",
       "      <td>301881.0</td>\n",
       "      <td>66.0</td>\n",
       "      <td>140.0</td>\n",
       "      <td>21498.0</td>\n",
       "      <td>KGS</td>\n",
       "      <td></td>\n",
       "      <td>75.0</td>\n",
       "      <td>NOS</td>\n",
       "    </tr>\n",
       "    <tr>\n",
       "      <th>1</th>\n",
       "      <td>3214257</td>\n",
       "      <td>2021-03-19</td>\n",
       "      <td>85411000</td>\n",
       "      <td>DIODE BAV99 215</td>\n",
       "      <td>30000.0</td>\n",
       "      <td>PCS</td>\n",
       "      <td>13896.68</td>\n",
       "      <td>0.463223</td>\n",
       "      <td>189.457123</td>\n",
       "      <td>0.006315</td>\n",
       "      <td>...</td>\n",
       "      <td>0.0</td>\n",
       "      <td></td>\n",
       "      <td>1058041.0</td>\n",
       "      <td>296.0</td>\n",
       "      <td>88.0</td>\n",
       "      <td>37036.0</td>\n",
       "      <td>KGS</td>\n",
       "      <td></td>\n",
       "      <td>30000.0</td>\n",
       "      <td>NOS</td>\n",
       "    </tr>\n",
       "    <tr>\n",
       "      <th>2</th>\n",
       "      <td>3214257</td>\n",
       "      <td>2021-03-19</td>\n",
       "      <td>85423100</td>\n",
       "      <td>IC M24C02-WMN6TP</td>\n",
       "      <td>2500.0</td>\n",
       "      <td>PCS</td>\n",
       "      <td>6834.43</td>\n",
       "      <td>2.733772</td>\n",
       "      <td>93.175596</td>\n",
       "      <td>0.037270</td>\n",
       "      <td>...</td>\n",
       "      <td>0.0</td>\n",
       "      <td></td>\n",
       "      <td>1058041.0</td>\n",
       "      <td>296.0</td>\n",
       "      <td>88.0</td>\n",
       "      <td>37036.0</td>\n",
       "      <td>KGS</td>\n",
       "      <td></td>\n",
       "      <td>2500.0</td>\n",
       "      <td>NOS</td>\n",
       "    </tr>\n",
       "    <tr>\n",
       "      <th>3</th>\n",
       "      <td>3214257</td>\n",
       "      <td>2021-03-19</td>\n",
       "      <td>85423100</td>\n",
       "      <td>IC ULN2003AS16-13</td>\n",
       "      <td>25000.0</td>\n",
       "      <td>PCS</td>\n",
       "      <td>151876.25</td>\n",
       "      <td>6.075050</td>\n",
       "      <td>2070.569189</td>\n",
       "      <td>0.082823</td>\n",
       "      <td>...</td>\n",
       "      <td>0.0</td>\n",
       "      <td></td>\n",
       "      <td>1058041.0</td>\n",
       "      <td>296.0</td>\n",
       "      <td>88.0</td>\n",
       "      <td>37036.0</td>\n",
       "      <td>KGS</td>\n",
       "      <td></td>\n",
       "      <td>25000.0</td>\n",
       "      <td>NOS</td>\n",
       "    </tr>\n",
       "  </tbody>\n",
       "</table>\n",
       "<p>4 rows × 68 columns</p>\n",
       "</div>"
      ],
      "text/plain": [
       "     BE NO      BEDATE   HS CODE  \\\n",
       "0  3217867  2021-03-19  85365090   \n",
       "1  3214257  2021-03-19  85411000   \n",
       "2  3214257  2021-03-19  85423100   \n",
       "3  3214257  2021-03-19  85423100   \n",
       "\n",
       "                                 PRODUCT DESCRIPTION  QUANTITY UNIT  \\\n",
       "0  47556591 STEERING COLUMN SWITCH SWITCHGEAR ASS...      75.0  PCS   \n",
       "1                                    DIODE BAV99 215   30000.0  PCS   \n",
       "2                                   IC M24C02-WMN6TP    2500.0  PCS   \n",
       "3                                  IC ULN2003AS16-13   25000.0  PCS   \n",
       "\n",
       "   ASSESS VALUE(INR)  UNIT PRICE (INR)  ASSESS VALUE (USD)  UNIT PRICE (USD)  \\\n",
       "0          198525.96       2647.012800         2706.557055         36.087427   \n",
       "1           13896.68          0.463223          189.457123          0.006315   \n",
       "2            6834.43          2.733772           93.175596          0.037270   \n",
       "3          151876.25          6.075050         2070.569189          0.082823   \n",
       "\n",
       "   ...  TOTAL INSU VALUE_ FORGN CUR  INSURANCE_CURRENCY  \\\n",
       "0  ...                          0.0                       \n",
       "1  ...                          0.0                       \n",
       "2  ...                          0.0                       \n",
       "3  ...                          0.0                       \n",
       "\n",
       "   TOTAL INVOICE VALUE_INR  INSURANCE VALUE_INR  TOTAL GROSS WEIGHT  \\\n",
       "0                 301881.0                 66.0               140.0   \n",
       "1                1058041.0                296.0                88.0   \n",
       "2                1058041.0                296.0                88.0   \n",
       "3                1058041.0                296.0                88.0   \n",
       "\n",
       "   TOTAL FREIGHT VALUE_INR GROSS WEIGHT UNIT  CUSTOM_NOTIFICATION  \\\n",
       "0                  21498.0               KGS                        \n",
       "1                  37036.0               KGS                        \n",
       "2                  37036.0               KGS                        \n",
       "3                  37036.0               KGS                        \n",
       "\n",
       "  STANDARD QUANTITY STANDARD QUANTITY UNIT  \n",
       "0              75.0                    NOS  \n",
       "1           30000.0                    NOS  \n",
       "2            2500.0                    NOS  \n",
       "3           25000.0                    NOS  \n",
       "\n",
       "[4 rows x 68 columns]"
      ]
     },
     "execution_count": 49,
     "metadata": {},
     "output_type": "execute_result"
    }
   ],
   "source": [
    "part_import_subset.head(4)"
   ]
  },
  {
   "cell_type": "code",
   "execution_count": 50,
   "metadata": {
    "scrolled": true
   },
   "outputs": [
    {
     "data": {
      "text/plain": [
       "Index(['BE NO', 'BEDATE', 'HS CODE', 'PRODUCT DESCRIPTION', 'QUANTITY', 'UNIT',\n",
       "       'ASSESS VALUE(INR)', 'UNIT PRICE (INR)', 'ASSESS VALUE (USD)',\n",
       "       'UNIT PRICE (USD)', 'TOTAL_DUTY', 'TOTAL DUTY (BE WISE)',\n",
       "       'APPLICABLE DUTY (INR)', 'EXCHANGE RATE(USD)', 'ITEM RATE_INV_CURR',\n",
       "       'VALUE_INV_CURR', 'INVOICE CURRENCY', 'ASSESS GROUP', 'IMPORTER CODE',\n",
       "       'IMPORTER NAME', 'IMPORTER ADDRESS', 'IMPORTER CITY', 'IMPORTER PIN',\n",
       "       'IMPORTER STATE', 'SUPPLIER CODE', 'SUPPLIER NAME', 'SUPPLIER ADDRESS',\n",
       "       'SUPPLIER COUNTRY', 'FOREIGN PORT', 'FOREIGN COUNTRY',\n",
       "       'FOREIGN REGIONS', 'CHA NAME', 'CHA PAN', 'IEC', 'IEC CODE',\n",
       "       'INVOICE NUMBER', 'INVOICE_SR_NO', 'ITEM NUMBER', 'HSCODE(2 DIGIT)',\n",
       "       'HSCODE(4 DIGIT)', 'TYPE', 'INDIAN PORT', 'SHIPMENT MODE',\n",
       "       'INDIAN REGIONS', 'SHIPMENT PORT', 'HSCODE(6 DIGIT)', 'BCD NOTN',\n",
       "       'BCD RATE', 'BCD AMOUNT(INR)', 'CVD NOTN', 'CVD RATE',\n",
       "       'CVD AMOUNT(INR)', 'IGST AMOUNT(INR)', 'GST CESS AMOUNT(INR)', 'REMARK',\n",
       "       'INCOTERMS', 'TOTAL FREIGHT VALUE_FORGN CUR', 'FREIGHT_CURRENCY',\n",
       "       'TOTAL INSU VALUE_ FORGN CUR', 'INSURANCE_CURRENCY',\n",
       "       'TOTAL INVOICE VALUE_INR', 'INSURANCE VALUE_INR', 'TOTAL GROSS WEIGHT',\n",
       "       'TOTAL FREIGHT VALUE_INR', 'GROSS WEIGHT UNIT', 'CUSTOM_NOTIFICATION',\n",
       "       'STANDARD QUANTITY', 'STANDARD QUANTITY UNIT'],\n",
       "      dtype='object')"
      ]
     },
     "execution_count": 50,
     "metadata": {},
     "output_type": "execute_result"
    }
   ],
   "source": [
    "part_import_subset.columns"
   ]
  },
  {
   "cell_type": "code",
   "execution_count": 51,
   "metadata": {
    "scrolled": true
   },
   "outputs": [
    {
     "name": "stdout",
     "output_type": "stream",
     "text": [
      "BE_NO,BEDATE,HS_CODE,PRODUCT_DESCRIPTION,QUANTITY,UNIT,ASSESS_VALUE_INR,UNIT_PRICE_INR,ASSESS_VALUE_USD,UNIT_PRICE_USD,TOTAL_DUTY,TOTAL_DUTY_BE_WISE,APPLICABLE_DUTY_INR,EXCHANGE_RATE_USD,ITEM_RATE_INV_CURR,VALUE_INV_CURR,INVOICE_CURRENCY,ASSESS_GROUP,IMPORTER_CODE,IMPORTER_NAME,IMPORTER_ADDRESS,IMPORTER_CITY,IMPORTER_PIN,IMPORTER_STATE,SUPPLIER_CODE,SUPPLIER_NAME,SUPPLIER_ADDRESS,SUPPLIER_COUNTRY,FOREIGN_PORT,FOREIGN_COUNTRY,FOREIGN_REGIONS,CHA_NAME,CHA_PAN,IEC,IEC_CODE,INVOICE_NUMBER,INVOICE_SR_NO,ITEM_NUMBER,HSCODE_2_DIGIT,HSCODE_4_DIGIT,TYPE,INDIAN_PORT,SHIPMENT_MODE,INDIAN_REGIONS,SHIPMENT_PORT,HSCODE_6_DIGIT,BCD_NOTN,BCD_RATE,BCD_AMOUNT_INR,CVD_NOTN,CVD_RATE,CVD_AMOUNT_INR,IGST_AMOUNT_INR,GST_CESS_AMOUNT_INR,REMARK,INCOTERMS,TOTAL_FREIGHT_VALUE_FORGN_CUR,FREIGHT_CURRENCY,TOTAL_INSU_VALUE__FORGN_CUR,INSURANCE_CURRENCY,TOTAL_INVOICE_VALUE_INR,INSURANCE_VALUE_INR,TOTAL_GROSS_WEIGHT,TOTAL_FREIGHT_VALUE_INR,GROSS_WEIGHT_UNIT,CUSTOM_NOTIFICATION,STANDARD_QUANTITY,STANDARD_QUANTITY_UNIT\n"
     ]
    }
   ],
   "source": [
    "cols = \",\".join([i.replace(' (','_').replace(' ','_').replace('(','_').replace(')','')  for i in part_import_subset.columns.tolist()])\n",
    "print(\"\" + cols + \"\")"
   ]
  },
  {
   "cell_type": "code",
   "execution_count": 52,
   "metadata": {
    "scrolled": true
   },
   "outputs": [],
   "source": [
    "# Connect to the database\n",
    "connection = pymysql.connect(host='localhost',\n",
    "                             user='root',\n",
    "                             password='dhruvi',\n",
    "                             db='elecparts_imports')"
   ]
  },
  {
   "cell_type": "code",
   "execution_count": 53,
   "metadata": {
    "scrolled": true
   },
   "outputs": [],
   "source": [
    "cursor = connection.cursor()"
   ]
  },
  {
   "cell_type": "code",
   "execution_count": 54,
   "metadata": {
    "scrolled": true
   },
   "outputs": [],
   "source": [
    "# creating column list for insertion\n",
    "counter=0\n",
    "\n",
    "# Insert DataFrame recrds one by one.\n",
    "for i,row in part_import_subset.iterrows():\n",
    "    sql = \"INSERT INTO elec_parts_import_txn (\" +cols + \") VALUES (\" + \"%s,\"*(len(row)-1) + \"%s)\"\n",
    "    \n",
    "    #print(sql)\n",
    "    #print(tuple(row))\n",
    "    cursor.execute(sql, tuple(row))\n",
    "    counter = counter+1\n",
    "    if counter > 1000:\n",
    "        # the connection is not autocommitted by default, so we must commit to save our changes\n",
    "        connection.commit()\n",
    "        counter=0\n",
    "        \n",
    "connection.commit()        "
   ]
  },
  {
   "cell_type": "code",
   "execution_count": 55,
   "metadata": {
    "scrolled": true
   },
   "outputs": [],
   "source": [
    "connection.close()"
   ]
  },
  {
   "cell_type": "markdown",
   "metadata": {},
   "source": [
    "### Extra Code"
   ]
  },
  {
   "cell_type": "code",
   "execution_count": null,
   "metadata": {
    "scrolled": true
   },
   "outputs": [],
   "source": [
    "#FEATURES = list(test.columns[1:10])\n",
    "#FEATURES"
   ]
  },
  {
   "cell_type": "code",
   "execution_count": null,
   "metadata": {
    "scrolled": true
   },
   "outputs": [],
   "source": [
    "test[ test['PRODUCT DESCRIPTION'].str.contains('BC847B')]"
   ]
  },
  {
   "cell_type": "markdown",
   "metadata": {},
   "source": [
    "## Pending Tasks\n",
    "\n",
    "-Load data into Temp table first and then copy it into Main table if all data loaded correctly in temp table"
   ]
  },
  {
   "cell_type": "code",
   "execution_count": null,
   "metadata": {},
   "outputs": [],
   "source": []
  }
 ],
 "metadata": {
  "kernelspec": {
   "display_name": "Python 3",
   "language": "python",
   "name": "python3"
  },
  "language_info": {
   "codemirror_mode": {
    "name": "ipython",
    "version": 3
   },
   "file_extension": ".py",
   "mimetype": "text/x-python",
   "name": "python",
   "nbconvert_exporter": "python",
   "pygments_lexer": "ipython3",
   "version": "3.6.10"
  }
 },
 "nbformat": 4,
 "nbformat_minor": 4
}
