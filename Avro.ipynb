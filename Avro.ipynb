{
 "cells": [
  {
   "cell_type": "code",
   "execution_count": 4,
   "metadata": {},
   "outputs": [],
   "source": [
    "import avro.schema\n",
    "\n",
    "from avro.datafile import DataFileReader, DataFileWriter\n",
    "\n",
    "from avro.io import DatumReader, DatumWriter\n",
    "\n"
   ]
  },
  {
   "cell_type": "code",
   "execution_count": 5,
   "metadata": {
    "collapsed": true
   },
   "outputs": [],
   "source": [
    "schema = avro.schema.Parse(open(\"user.avsc\",\"rb\").read())\n",
    "\n",
    "writer = DataFileWriter(open(\"users.avro\",\"wb\"),DatumWriter(),schema)\n",
    "\n",
    "writer.append({\"name\":\"Anil\",\"favorite_number\":2,\"favorite_color\":\"red\"})\n",
    "\n",
    "writer.append({\"name\":\"Anil\",\"favorite_number\":1})\n",
    "\n",
    "writer.close()"
   ]
  },
  {
   "cell_type": "code",
   "execution_count": 3,
   "metadata": {},
   "outputs": [
    {
     "name": "stdout",
     "output_type": "stream",
     "text": [
      "{'name': 'Anil', 'favorite_number': 2, 'favorite_color': 'red'}\n",
      "{'name': 'Anil', 'favorite_number': 1, 'favorite_color': None}\n"
     ]
    }
   ],
   "source": [
    "\n",
    "reader = DataFileReader(open(\"users.avro\",\"rb\"),DatumReader())\n",
    "\n",
    "for usr in reader:\n",
    "    print(usr)\n",
    "reader.close()"
   ]
  }
 ],
 "metadata": {
  "kernelspec": {
   "display_name": "Python 3",
   "language": "python",
   "name": "python3"
  },
  "language_info": {
   "codemirror_mode": {
    "name": "ipython",
    "version": 3
   },
   "file_extension": ".py",
   "mimetype": "text/x-python",
   "name": "python",
   "nbconvert_exporter": "python",
   "pygments_lexer": "ipython3",
   "version": "3.6.3"
  }
 },
 "nbformat": 4,
 "nbformat_minor": 2
}
